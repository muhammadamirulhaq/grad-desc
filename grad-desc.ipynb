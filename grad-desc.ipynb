{
 "cells": [
  {
   "cell_type": "code",
   "execution_count": 1,
   "id": "c42899e9-66be-4ce8-aa15-a4dfa9a835f0",
   "metadata": {},
   "outputs": [],
   "source": [
    "import Numeric.AD"
   ]
  },
  {
   "cell_type": "markdown",
   "id": "df8a84f4-3b16-4774-b44a-28dbe04c4b47",
   "metadata": {},
   "source": [
    "Gradient test"
   ]
  },
  {
   "cell_type": "code",
   "execution_count": 2,
   "id": "8c6a8181-ec85-4fbe-8854-a11551771be6",
   "metadata": {},
   "outputs": [
    {
     "data": {
      "text/plain": [
       "-1.96"
      ]
     },
     "metadata": {},
     "output_type": "display_data"
    }
   ],
   "source": [
    "head $ grad (\\[x] -> x^2 + 2*x) [-1.98]"
   ]
  },
  {
   "cell_type": "markdown",
   "id": "e8c25598-a237-4ea7-b03e-a87e38bdb053",
   "metadata": {},
   "source": [
    "One variable function"
   ]
  },
  {
   "cell_type": "code",
   "execution_count": 3,
   "id": "250aa351-0355-4ab1-93bd-212aa55f7fe2",
   "metadata": {},
   "outputs": [],
   "source": [
    "f [x] = x^2 + 3*x"
   ]
  },
  {
   "cell_type": "markdown",
   "id": "47bd833f-15b8-436e-9027-ee0fc7ef6bd2",
   "metadata": {},
   "source": [
    "Gradient descent of one variable function"
   ]
  },
  {
   "cell_type": "code",
   "execution_count": 4,
   "id": "e624f6d7-9b14-48d9-a003-ae54d8b32a71",
   "metadata": {},
   "outputs": [],
   "source": [
    "b 0 = -1.5\n",
    "b x = b (x-1) - 0.01*head (grad f [b (x-1)])"
   ]
  },
  {
   "cell_type": "code",
   "execution_count": 5,
   "id": "12a59bf9-004a-4bf5-a8ad-78f6dc7fe817",
   "metadata": {},
   "outputs": [
    {
     "data": {
      "text/plain": [
       "-1.5"
      ]
     },
     "metadata": {},
     "output_type": "display_data"
    }
   ],
   "source": [
    "b 10"
   ]
  },
  {
   "cell_type": "markdown",
   "id": "52d8b833-26ab-422a-87c1-864dd6b8a743",
   "metadata": {},
   "source": [
    "Gradient"
   ]
  },
  {
   "cell_type": "code",
   "execution_count": 6,
   "id": "09608dd8-b2fd-4499-bb33-30ed5e146c26",
   "metadata": {},
   "outputs": [
    {
     "data": {
      "text/plain": [
       "0.0"
      ]
     },
     "metadata": {},
     "output_type": "display_data"
    }
   ],
   "source": [
    "g x = 2*x + 3\n",
    "g $ b 10"
   ]
  },
  {
   "cell_type": "markdown",
   "id": "caefeaff-6154-43dd-b388-8345b4544f51",
   "metadata": {},
   "source": [
    "Cost function"
   ]
  },
  {
   "cell_type": "code",
   "execution_count": 7,
   "id": "2945d043-8550-4c4b-b993-01c9f836a3f0",
   "metadata": {},
   "outputs": [
    {
     "data": {
      "text/plain": [
       "-2.25"
      ]
     },
     "metadata": {},
     "output_type": "display_data"
    }
   ],
   "source": [
    "costF x = x^2 + 3*x\n",
    "costF $ b 10"
   ]
  },
  {
   "cell_type": "markdown",
   "id": "0441f600-6d5e-447f-a3a4-5eda88062a88",
   "metadata": {},
   "source": [
    "Multivariable function"
   ]
  },
  {
   "cell_type": "code",
   "execution_count": 8,
   "id": "e859a191-78b4-4d2b-9b56-049b74af6cab",
   "metadata": {},
   "outputs": [],
   "source": [
    "f [x,y] = x^2 + y^2 + 2*x"
   ]
  },
  {
   "cell_type": "markdown",
   "id": "adad0365-8953-4e16-9d13-f4ebc79e4182",
   "metadata": {},
   "source": [
    "Gradient descent of multivariable function"
   ]
  },
  {
   "cell_type": "code",
   "execution_count": 9,
   "id": "cfaa9cbc-9cc8-4f48-b66d-95f4f2782767",
   "metadata": {},
   "outputs": [],
   "source": [
    "a 0 = -1\n",
    "a x = a (x-1) - 0.01*head (grad f [a (x-1), b (x-1)])\n",
    "\n",
    "b 0 = 0.0\n",
    "b x = b (x-1) - 0.01*last (grad f [a (x-1), b (x-1)])"
   ]
  },
  {
   "cell_type": "code",
   "execution_count": 10,
   "id": "d6e3605c-d930-4ae5-b4b8-87207cf3bdcd",
   "metadata": {},
   "outputs": [
    {
     "data": {
      "text/plain": [
       "(-1.0,0.0)"
      ]
     },
     "metadata": {},
     "output_type": "display_data"
    }
   ],
   "source": [
    "print (a 6, b 6)"
   ]
  },
  {
   "cell_type": "markdown",
   "id": "0b8d6c60-f63f-457d-bf07-7ad44c711628",
   "metadata": {},
   "source": [
    "Gradient"
   ]
  },
  {
   "cell_type": "code",
   "execution_count": 11,
   "id": "43f7f30b-8f04-4089-b7fc-9c3e927ec894",
   "metadata": {},
   "outputs": [
    {
     "data": {
      "text/plain": [
       "(0.0,0.0)"
      ]
     },
     "metadata": {},
     "output_type": "display_data"
    }
   ],
   "source": [
    "g1 x y = 2*x + 2\n",
    "g2 x y = 2*y\n",
    "print (g1 (a 6) (b 6), g2 (a 6 ) (b 6))"
   ]
  },
  {
   "cell_type": "markdown",
   "id": "5cfe6075-ed77-4213-8e40-1680ed46f612",
   "metadata": {},
   "source": [
    "Cost Function"
   ]
  },
  {
   "cell_type": "code",
   "execution_count": 12,
   "id": "756df9bd-4ca8-42e3-a4aa-2072a53819a6",
   "metadata": {},
   "outputs": [
    {
     "data": {
      "text/plain": [
       "-1.0"
      ]
     },
     "metadata": {},
     "output_type": "display_data"
    }
   ],
   "source": [
    "costF x y = x^2 + y^2 + 2*x\n",
    "costF (a 6) (b 6)"
   ]
  }
 ],
 "metadata": {
  "kernelspec": {
   "display_name": "Haskell",
   "language": "haskell",
   "name": "haskell"
  },
  "language_info": {
   "codemirror_mode": "ihaskell",
   "file_extension": ".hs",
   "mimetype": "text/x-haskell",
   "name": "haskell",
   "pygments_lexer": "Haskell",
   "version": "8.10.7"
  }
 },
 "nbformat": 4,
 "nbformat_minor": 5
}
