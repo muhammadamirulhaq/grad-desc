{
 "cells": [
  {
   "cell_type": "code",
   "execution_count": 1,
   "id": "6085933f-9848-45e6-a721-c8ec61694a80",
   "metadata": {},
   "outputs": [],
   "source": [
    "import Numeric.AD\n",
    "import Data.IORef (modifyIORef, newIORef, readIORef)"
   ]
  },
  {
   "cell_type": "code",
   "execution_count": 2,
   "id": "09c09161-8b0e-4257-ba56-c0b41ea97f61",
   "metadata": {},
   "outputs": [],
   "source": [
    "-- 1 variable function\n",
    "\n",
    "f [x] = x^2 + 3*x"
   ]
  },
  {
   "cell_type": "code",
   "execution_count": 3,
   "id": "be1bc554-12ac-4c3c-b439-bf89ff261e9c",
   "metadata": {},
   "outputs": [
    {
     "data": {
      "text/plain": [
       "-1.5"
      ]
     },
     "metadata": {},
     "output_type": "display_data"
    }
   ],
   "source": [
    "b <- newIORef 1.0\n",
    "\n",
    "minOfFunc = do\n",
    " b0 <- readIORef b\n",
    " modifyIORef b (\\b -> b - 0.01*head (grad f [b]))\n",
    " if head (grad f [b0]) > 1e-10 then minOfFunc\n",
    " else return b0\n",
    "\n",
    "x <- minOfFunc\n",
    "fromIntegral (round $ 10000*x) / 10000"
   ]
  },
  {
   "cell_type": "code",
   "execution_count": 4,
   "id": "107e83b6-01d6-42cc-be0c-9646e5dd1c1d",
   "metadata": {},
   "outputs": [
    {
     "data": {
      "text/plain": [
       "-2.25"
      ]
     },
     "metadata": {},
     "output_type": "display_data"
    }
   ],
   "source": [
    "-- x value that minimizes the result of function\n",
    "\n",
    "f [-1.5]"
   ]
  },
  {
   "cell_type": "code",
   "execution_count": 5,
   "id": "3554ec52-3ffc-4936-9ab6-c5dbbc70a55c",
   "metadata": {},
   "outputs": [],
   "source": [
    "-- 2 variables function\n",
    "\n",
    "f [x,y] = x^2 + y^2 + 3*x + 3*y"
   ]
  },
  {
   "cell_type": "code",
   "execution_count": 6,
   "id": "44798427-d9b3-4d14-9efd-6741b9af5dbb",
   "metadata": {},
   "outputs": [
    {
     "data": {
      "text/plain": [
       "(-1.5,-1.5)"
      ]
     },
     "metadata": {},
     "output_type": "display_data"
    }
   ],
   "source": [
    "a <- newIORef 1.0\n",
    "b <- newIORef 1.0\n",
    "\n",
    "minOfFunc = do\n",
    " a0 <- readIORef a\n",
    " b0 <- readIORef b\n",
    " modifyIORef a (\\a -> a - 0.01*head (grad f [a,b0])) \n",
    " modifyIORef b (\\b -> b - 0.01*last (grad f [a0,b]))\n",
    " if (head (grad f [a0,b0]) > 1e-10) || (last (grad f [a0,b0]) > 1e-10) then minOfFunc\n",
    " else return (a0, b0)\n",
    "\n",
    "(x, y) <- minOfFunc\n",
    "x_ = fromIntegral (round $ 10000*x) / 10000\n",
    "y_ = fromIntegral (round $ 10000*y) / 10000\n",
    "\n",
    "print(x_, y_)"
   ]
  },
  {
   "cell_type": "code",
   "execution_count": 7,
   "id": "424e3d9e-94e8-4acc-9d77-eaf986a74ef0",
   "metadata": {},
   "outputs": [
    {
     "data": {
      "text/plain": [
       "-4.5"
      ]
     },
     "metadata": {},
     "output_type": "display_data"
    }
   ],
   "source": [
    "-- x and y values that minimize the result of function\n",
    "\n",
    "f [-1.5,-1.5]"
   ]
  }
 ],
 "metadata": {
  "kernelspec": {
   "display_name": "Haskell",
   "language": "haskell",
   "name": "haskell"
  },
  "language_info": {
   "codemirror_mode": "ihaskell",
   "file_extension": ".hs",
   "mimetype": "text/x-haskell",
   "name": "haskell",
   "pygments_lexer": "Haskell",
   "version": "8.10.7"
  }
 },
 "nbformat": 4,
 "nbformat_minor": 5
}
