{
 "cells": [
  {
   "cell_type": "code",
   "execution_count": 1,
   "id": "6085933f-9848-45e6-a721-c8ec61694a80",
   "metadata": {},
   "outputs": [],
   "source": [
    "import Numeric.AD\n",
    "import Data.IORef (modifyIORef, newIORef, readIORef)"
   ]
  },
  {
   "cell_type": "code",
   "execution_count": 2,
   "id": "09c09161-8b0e-4257-ba56-c0b41ea97f61",
   "metadata": {},
   "outputs": [],
   "source": [
    "f [x] = x^2 + 3*x"
   ]
  },
  {
   "cell_type": "code",
   "execution_count": 3,
   "id": "be1bc554-12ac-4c3c-b439-bf89ff261e9c",
   "metadata": {},
   "outputs": [
    {
     "data": {
      "text/plain": [
       "-1.5"
      ]
     },
     "metadata": {},
     "output_type": "display_data"
    }
   ],
   "source": [
    "b <- newIORef 1.0\n",
    "\n",
    "minOfFunc = do\n",
    " b0 <- readIORef b\n",
    " modifyIORef b (\\b -> b - 0.01*head (grad f [b]))\n",
    " if head (grad f [b0]) > 1e-10 then minOfFunc\n",
    " else readIORef b\n",
    "\n",
    "x <- minOfFunc\n",
    "fromIntegral (round $ 10000*x) / 10000"
   ]
  },
  {
   "cell_type": "code",
   "execution_count": 4,
   "id": "107e83b6-01d6-42cc-be0c-9646e5dd1c1d",
   "metadata": {},
   "outputs": [
    {
     "data": {
      "text/plain": [
       "-2.25"
      ]
     },
     "metadata": {},
     "output_type": "display_data"
    }
   ],
   "source": [
    "-- x value that minimizes the result of function\n",
    "f [-1.5]"
   ]
  }
 ],
 "metadata": {
  "kernelspec": {
   "display_name": "Haskell",
   "language": "haskell",
   "name": "haskell"
  },
  "language_info": {
   "codemirror_mode": "ihaskell",
   "file_extension": ".hs",
   "mimetype": "text/x-haskell",
   "name": "haskell",
   "pygments_lexer": "Haskell",
   "version": "8.10.7"
  }
 },
 "nbformat": 4,
 "nbformat_minor": 5
}
